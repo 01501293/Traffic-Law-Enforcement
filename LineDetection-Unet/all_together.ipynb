{
 "cells": [
  {
   "cell_type": "code",
   "execution_count": 110,
   "metadata": {},
   "outputs": [],
   "source": [
    "import cv2\n",
    "import numpy as np\n",
    "import matplotlib.pyplot as plt\n",
    "import os\n",
    "from glob import glob\n",
    "import torch\n",
    "\n",
    "device = torch.device(\"cuda\" if torch.cuda.is_available() else \"cpu\")\n",
    "\n",
    "%matplotlib qt"
   ]
  },
  {
   "cell_type": "code",
   "execution_count": 111,
   "metadata": {},
   "outputs": [],
   "source": [
    "test_images = ['00001.01417766',\n",
    "               '00001.03812223',\n",
    "               '00001.02500618',\n",
    "               '00001.04331330',\n",
    "               '00001.06923671',\n",
    "               '00001.01410167',\n",
    "               '00002.00337768']"
   ]
  },
  {
   "cell_type": "code",
   "execution_count": 434,
   "metadata": {},
   "outputs": [],
   "source": [
    "image = cv2.imread('phase1/images/'+ test_images[5] +'.png')\n",
    "image = cv2.imread('test_data_tehran/34.png')\n",
    "image = cv2.resize(image, (300,300))\n",
    "\n",
    "gray = cv2.cvtColor(image, cv2.COLOR_BGR2GRAY)\n",
    "# gray = cv2.GaussianBlur(gray, (7, 7), 0)\n"
   ]
  },
  {
   "cell_type": "code",
   "execution_count": 435,
   "metadata": {},
   "outputs": [
    {
     "data": {
      "text/plain": [
       "<matplotlib.image.AxesImage at 0x2852e763910>"
      ]
     },
     "execution_count": 435,
     "metadata": {},
     "output_type": "execute_result"
    }
   ],
   "source": [
    "gray = cv2.cvtColor(image, cv2.COLOR_BGR2GRAY)\n",
    "th,image_binary = cv2.threshold(gray,0,255,cv2.THRESH_BINARY+cv2.THRESH_OTSU)\n",
    "plt.imshow(image_binary)"
   ]
  },
  {
   "cell_type": "markdown",
   "metadata": {},
   "source": [
    "# road mask"
   ]
  },
  {
   "cell_type": "code",
   "execution_count": 436,
   "metadata": {},
   "outputs": [],
   "source": [
    "from road_segment import UnetModel\n",
    "\n",
    "road_seg = UnetModel('unet_epoch_38.pt')\n",
    "mask = road_seg.detect_mask(image)\n",
    "new_mask = road_seg.mask2convex(mask)"
   ]
  },
  {
   "cell_type": "code",
   "execution_count": 437,
   "metadata": {},
   "outputs": [],
   "source": [
    "plt.figure()\n",
    "plt.subplot(2,2,1)\n",
    "plt.imshow(mask)\n",
    "plt.subplot(2,2,2)\n",
    "plt.imshow(image)\n",
    "plt.subplot(2,2,3)\n",
    "plt.imshow(new_mask)\n",
    "plt.subplot(2,2,4)\n",
    "plt.imshow(np.expand_dims(new_mask, -1)*image)\n",
    "plt.show()"
   ]
  },
  {
   "cell_type": "code",
   "execution_count": 438,
   "metadata": {},
   "outputs": [
    {
     "data": {
      "text/plain": [
       "(300, 300)"
      ]
     },
     "execution_count": 438,
     "metadata": {},
     "output_type": "execute_result"
    }
   ],
   "source": [
    "new_mask.shape"
   ]
  },
  {
   "cell_type": "code",
   "execution_count": 439,
   "metadata": {},
   "outputs": [
    {
     "data": {
      "text/plain": [
       "array([0, 1], dtype=uint8)"
      ]
     },
     "execution_count": 439,
     "metadata": {},
     "output_type": "execute_result"
    }
   ],
   "source": [
    "\n",
    "np.unique(new_mask)"
   ]
  },
  {
   "cell_type": "markdown",
   "metadata": {},
   "source": [
    "### gaussian -> sharp -> canny "
   ]
  },
  {
   "cell_type": "code",
   "execution_count": 440,
   "metadata": {},
   "outputs": [
    {
     "data": {
      "text/plain": [
       "<matplotlib.image.AxesImage at 0x2853a5a2cd0>"
      ]
     },
     "execution_count": 440,
     "metadata": {},
     "output_type": "execute_result"
    }
   ],
   "source": [
    "res = cv2.GaussianBlur(image, (3, 3), 0)\n",
    "kernel = np.array([[-1,-1,-1], [-1,9,-1], [-1,-1,-1]])\n",
    "res = cv2.filter2D(res, -1, kernel)\n",
    "\n",
    "\n",
    "\n",
    "plt.imshow(res)"
   ]
  },
  {
   "cell_type": "code",
   "execution_count": 441,
   "metadata": {},
   "outputs": [
    {
     "data": {
      "text/plain": [
       "<matplotlib.image.AxesImage at 0x2853a5f94f0>"
      ]
     },
     "execution_count": 441,
     "metadata": {},
     "output_type": "execute_result"
    }
   ],
   "source": [
    "canny_image = cv2.Canny(res,300,500)\n",
    "plt.imshow(canny_image)"
   ]
  },
  {
   "cell_type": "code",
   "execution_count": 442,
   "metadata": {},
   "outputs": [
    {
     "data": {
      "text/plain": [
       "<matplotlib.image.AxesImage at 0x2853eddb490>"
      ]
     },
     "execution_count": 442,
     "metadata": {},
     "output_type": "execute_result"
    }
   ],
   "source": [
    "res = cv2.bitwise_and(canny_image,canny_image,mask = new_mask)\n",
    "plt.imshow(res)\n"
   ]
  },
  {
   "cell_type": "markdown",
   "metadata": {},
   "source": [
    "### hough"
   ]
  },
  {
   "cell_type": "code",
   "execution_count": 476,
   "metadata": {},
   "outputs": [
    {
     "data": {
      "text/plain": [
       "(6, 2, 2)"
      ]
     },
     "execution_count": 476,
     "metadata": {},
     "output_type": "execute_result"
    }
   ],
   "source": [
    "from skimage.transform import probabilistic_hough_line\n",
    "lines = probabilistic_hough_line(res,threshold=25,line_length=max(res.shape)//24,line_gap=0,seed=42)\n",
    "# lines = probabilistic_hough_line(res, threshold=25, line_length=15,line_gap=0)\n",
    "lines = np.array(lines)\n",
    "lines.shape"
   ]
  },
  {
   "cell_type": "code",
   "execution_count": 477,
   "metadata": {},
   "outputs": [
    {
     "data": {
      "text/plain": [
       "(300, 300)"
      ]
     },
     "execution_count": 477,
     "metadata": {},
     "output_type": "execute_result"
    }
   ],
   "source": [
    "res.shape"
   ]
  },
  {
   "cell_type": "code",
   "execution_count": 478,
   "metadata": {},
   "outputs": [],
   "source": [
    "lines = lines.reshape(-1,2,2)\n",
    "slope = (lines[:,1,1]-lines[:,0,1]) / (lines[:,1,0]-lines[:,0,0])\n",
    "\n",
    "lines = lines[abs(slope)>0.2]\n",
    "slope = slope[abs(slope)>0.2]\n",
    "\n",
    "lines = lines[abs(slope) != np.inf]\n",
    "slope = slope[abs(slope) != np.inf]\n",
    "# slope[slope == np.inf] = 10000\n",
    "# slope[slope == -np.inf] = -10000"
   ]
  },
  {
   "cell_type": "code",
   "execution_count": 479,
   "metadata": {},
   "outputs": [],
   "source": [
    "y1 = image.shape[0]\n",
    "x1 = (y1 - lines[:,1,1])/slope + lines[:,1,0]\n",
    "\n",
    "data = np.vstack([slope,x1]).T"
   ]
  },
  {
   "cell_type": "code",
   "execution_count": 480,
   "metadata": {},
   "outputs": [
    {
     "data": {
      "text/plain": [
       "<matplotlib.collections.PathCollection at 0x2853f23ad00>"
      ]
     },
     "execution_count": 480,
     "metadata": {},
     "output_type": "execute_result"
    }
   ],
   "source": [
    "plt.scatter(data[:,0],data[:,1])"
   ]
  },
  {
   "cell_type": "markdown",
   "metadata": {},
   "source": [
    "# MeanShift"
   ]
  },
  {
   "cell_type": "code",
   "execution_count": 481,
   "metadata": {},
   "outputs": [
    {
     "name": "stderr",
     "output_type": "stream",
     "text": [
      "D:\\Users\\amirh\\anaconda3\\lib\\site-packages\\sklearn\\cluster\\_mean_shift.py:234: UserWarning: Binning data failed with provided bin_size=0.010000, using data points as seeds.\n",
      "  warnings.warn(\"Binning data failed with provided bin_size=%f,\"\n"
     ]
    },
    {
     "data": {
      "text/plain": [
       "array([2, 4, 5, 3, 0, 1], dtype=int64)"
      ]
     },
     "execution_count": 481,
     "metadata": {},
     "output_type": "execute_result"
    }
   ],
   "source": [
    "from sklearn.cluster import MeanShift, estimate_bandwidth\n",
    "bandwidth = estimate_bandwidth(data, quantile=0.2)\n",
    "bandwidth = bandwidth if bandwidth > 0 else 0.01\n",
    "clustering = MeanShift(bandwidth=bandwidth, bin_seeding=True).fit(data)\n",
    "clustering.labels_"
   ]
  },
  {
   "cell_type": "code",
   "execution_count": 482,
   "metadata": {},
   "outputs": [
    {
     "data": {
      "text/plain": [
       "array([0, 1, 2, 3, 4, 5], dtype=int64)"
      ]
     },
     "execution_count": 482,
     "metadata": {},
     "output_type": "execute_result"
    }
   ],
   "source": [
    "np.unique(clustering.labels_)"
   ]
  },
  {
   "cell_type": "code",
   "execution_count": 483,
   "metadata": {},
   "outputs": [
    {
     "data": {
      "text/plain": [
       "array([[   1.27272727,  482.57142857],\n",
       "       [  -0.78571429, -235.45454545],\n",
       "       [  -1.5       ,  -23.33333333],\n",
       "       [  -1.6       ,  -15.25      ],\n",
       "       [  -1.63636364,   -7.16666667],\n",
       "       [  -1.64705882,   -6.39285714]])"
      ]
     },
     "execution_count": 483,
     "metadata": {},
     "output_type": "execute_result"
    }
   ],
   "source": [
    "clustering.cluster_centers_"
   ]
  },
  {
   "cell_type": "code",
   "execution_count": 484,
   "metadata": {},
   "outputs": [],
   "source": [
    "final_lines = []\n",
    "for slope, x in clustering.cluster_centers_:\n",
    "    if abs(slope)>0.5:\n",
    "        point1 = [int(x),int(y1)]\n",
    "        point2 = [int(-y1/slope + x),0]\n",
    "        final_lines.append([point1,point2])"
   ]
  },
  {
   "cell_type": "code",
   "execution_count": 485,
   "metadata": {},
   "outputs": [
    {
     "data": {
      "text/plain": [
       "(6, 2, 2)"
      ]
     },
     "execution_count": 485,
     "metadata": {},
     "output_type": "execute_result"
    }
   ],
   "source": [
    "final_lines = np.array(final_lines)\n",
    "final_lines.shape"
   ]
  },
  {
   "cell_type": "markdown",
   "metadata": {},
   "source": [
    "# plot"
   ]
  },
  {
   "cell_type": "code",
   "execution_count": 488,
   "metadata": {},
   "outputs": [],
   "source": [
    "start_point = (154, 0)\n",
    "end_point = (386, 288)\n",
    "  \n",
    "color = (255, 255, 0)\n",
    "  \n",
    "thickness = 5\n",
    "\n",
    "new_image = image.copy()\n",
    "last_mask = np.zeros_like(new_image)\n",
    "\n",
    "for l in final_lines:\n",
    "    start_point = (l[0,0], l[0,1])\n",
    "    end_point = (l[1,0], l[1,1])\n",
    "    new_image = cv2.line(new_image, start_point, end_point, color, thickness)\n",
    "    last_mask = cv2.line(last_mask, start_point, end_point, (256,256,256), thickness)\n",
    "  \n",
    "\n",
    "plt.figure(figsize=(15,15))\n",
    "plt.subplot(1,4,1)\n",
    "plt.imshow(image)\n",
    "plt.subplot(1,4,2)\n",
    "plt.imshow(new_image)\n",
    "plt.subplot(1,4,3)\n",
    "f_image = cv2.bitwise_and(new_image,new_image,mask = new_mask)\n",
    "plt.imshow(f_image)\n",
    "plt.subplot(1,4,4)\n",
    "# f_image = cv2.bitwise_and(new_image,new_image,mask = new_mask)\n",
    "plt.imshow(last_mask)\n",
    "\n",
    "plt.show()"
   ]
  },
  {
   "cell_type": "code",
   "execution_count": null,
   "metadata": {},
   "outputs": [],
   "source": []
  },
  {
   "cell_type": "markdown",
   "metadata": {},
   "source": [
    "# loop"
   ]
  },
  {
   "cell_type": "code",
   "execution_count": 153,
   "metadata": {},
   "outputs": [
    {
     "name": "stderr",
     "output_type": "stream",
     "text": [
      "D:\\Users\\amirh\\anaconda3\\lib\\site-packages\\sklearn\\cluster\\_mean_shift.py:234: UserWarning: Binning data failed with provided bin_size=0.010000, using data points as seeds.\n",
      "  warnings.warn(\"Binning data failed with provided bin_size=%f,\"\n"
     ]
    }
   ],
   "source": [
    "import cv2\n",
    "import numpy as np\n",
    "import matplotlib.pyplot as plt\n",
    "import os\n",
    "from glob import glob\n",
    "import torch\n",
    "from road_segment import UnetModel\n",
    "from sklearn.cluster import MeanShift, estimate_bandwidth\n",
    "from skimage.transform import probabilistic_hough_line\n",
    "\n",
    "\n",
    "device = torch.device(\"cuda\" if torch.cuda.is_available() else \"cpu\")\n",
    "road_seg = UnetModel('unet_epoch_38.pt')\n",
    "\n",
    "image_addresses = glob('test_data_tehran/*.png')\n",
    "for img_path in image_addresses:\n",
    "    try:\n",
    "        image = cv2.imread(img_path)\n",
    "        mask = road_seg.detect_mask(image)\n",
    "        new_mask = road_seg.mask2convex(mask)\n",
    "\n",
    "        res = cv2.GaussianBlur(image, (3, 3), 0)\n",
    "        kernel = np.array([[-1,-1,-1], [-1,9,-1], [-1,-1,-1]])\n",
    "        res = cv2.filter2D(res, -1, kernel)\n",
    "\n",
    "        canny_image = cv2.Canny(res,300,500)\n",
    "        res = cv2.bitwise_and(canny_image,canny_image,mask = new_mask)\n",
    "\n",
    "        lines = probabilistic_hough_line(res,threshold=15,line_length=max(res.shape)//24,line_gap=0,seed=42)\n",
    "        lines = np.array(lines)\n",
    "\n",
    "        lines = lines.reshape(-1,2,2)\n",
    "        slope = (lines[:,1,1]-lines[:,0,1]) / (lines[:,1,0]-lines[:,0,0])\n",
    "\n",
    "        lines = lines[abs(slope)>0.2]\n",
    "        slope = slope[abs(slope)>0.2]\n",
    "\n",
    "        lines = lines[abs(slope) != np.inf]\n",
    "        slope = slope[abs(slope) != np.inf]\n",
    "\n",
    "        y1 = image.shape[0]\n",
    "        x1 = (y1 - lines[:,1,1])//slope + lines[:,1,0]\n",
    "\n",
    "        data = np.vstack([slope,x1]).T\n",
    "        bandwidth = estimate_bandwidth(data, quantile=0.2)\n",
    "        bandwidth = bandwidth if bandwidth > 0 else 0.01\n",
    "        clustering = MeanShift(bandwidth=bandwidth, bin_seeding=True).fit(data)\n",
    "\n",
    "        final_lines = []\n",
    "        for slope, x in clustering.cluster_centers_:\n",
    "            if abs(slope)>0.5:\n",
    "                point1 = [int(x),int(y1)]\n",
    "                point2 = [int(-y1/slope + x),0]\n",
    "                final_lines.append([point1,point2])\n",
    "\n",
    "        final_lines = np.array(final_lines)\n",
    "        \n",
    "        color = (0, 255, 255)\n",
    "        thickness = 3\n",
    "        new_image = image.copy()\n",
    "\n",
    "        for l in final_lines:\n",
    "            start_point = (l[0,0], l[0,1])\n",
    "            end_point = (l[1,0], l[1,1])\n",
    "            new_image = cv2.line(new_image, start_point, end_point, color, thickness)\n",
    "\n",
    "        cv2.imwrite(img_path.replace('.png','_res.png'),new_image)\n",
    "    except:\n",
    "        pass\n"
   ]
  },
  {
   "cell_type": "code",
   "execution_count": null,
   "metadata": {},
   "outputs": [],
   "source": []
  }
 ],
 "metadata": {
  "kernelspec": {
   "display_name": "Python 3",
   "language": "python",
   "name": "python3"
  },
  "language_info": {
   "codemirror_mode": {
    "name": "ipython",
    "version": 3
   },
   "file_extension": ".py",
   "mimetype": "text/x-python",
   "name": "python",
   "nbconvert_exporter": "python",
   "pygments_lexer": "ipython3",
   "version": "3.8.5"
  }
 },
 "nbformat": 4,
 "nbformat_minor": 4
}
