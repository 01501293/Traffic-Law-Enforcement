{
 "cells": [
  {
   "cell_type": "code",
   "execution_count": null,
   "metadata": {
    "id": "yFxkfy85UQGQ"
   },
   "outputs": [],
   "source": [
    "from elements.yolo import LINE_DETECTION\n",
    "import numpy as np\n",
    "import cv2\n",
    "import os\n",
    "from glob import glob\n",
    "from time import time\n",
    "from skimage.feature import canny\n",
    "from skimage.transform import probabilistic_hough_line\n",
    "from copy import deepcopy"
   ]
  },
  {
   "cell_type": "code",
   "execution_count": null,
   "metadata": {},
   "outputs": [],
   "source": [
    "def rad(degree):\n",
    "    return (degree * np.pi/180)"
   ]
  },
  {
   "cell_type": "code",
   "execution_count": null,
   "metadata": {
    "id": "LljXvFDCrlHi"
   },
   "outputs": [],
   "source": [
    "def line_detector_func(image, theta_range=None):\n",
    "    line_image = 0 * image\n",
    "    image_gray = cv2.cvtColor(image, cv2.COLOR_RGB2GRAY)\n",
    "    # canny edge detector filter\n",
    "    edges = canny(image_gray,sigma=sigma,low_threshold=low_threshold,high_threshold=high_threshold)\n",
    "    lines = probabilistic_hough_line(edges,\n",
    "                                     threshold=threshold,\n",
    "                                     line_length=max(image_gray.shape)//4,\n",
    "                                     line_gap=max(image_gray.shape),\n",
    "                                     theta=theta_range,\n",
    "                                     seed=2022)\n",
    "\n",
    "    idx = 0\n",
    "    while len(lines)>1 and idx<len(lines)-1:\n",
    "        (x00, y00), (x01, y01) = lines[idx]\n",
    "        (x10, y10), (x11, y11) = lines[idx+1]\n",
    "        m0 = (y01-y00) / (x01-x00)\n",
    "        m1 = (y11-y10) / (x11-x10)\n",
    "        if np.abs(m1-m0) <= tetha_thr:\n",
    "            lines.pop(idx+1)\n",
    "        else:\n",
    "            idx+=1\n",
    "\n",
    "    for ((x0, y0), (x1, y1)) in lines: \n",
    "        cv2.line(line_image, (x0, y0), (x1, y1), (255, 255, 255), thickness=thickness)\n",
    "        \n",
    "    return line_image, edges, lines"
   ]
  },
  {
   "cell_type": "code",
   "execution_count": null,
   "metadata": {
    "id": "sGahWZ9_7kWM"
   },
   "outputs": [],
   "source": [
    "def same_region(region, row, col):\n",
    "    for i in range(len(region)):\n",
    "    r, c = region[i]\n",
    "    if (row==r and col==c+1) or (row==r+1 and (col==c-1 or col==c or col==c+1)):\n",
    "        return True\n",
    "\n",
    "def get_regions(line_image):\n",
    "    regions = {}\n",
    "    for row in range(line_image.shape[0]):\n",
    "        for col in range(line_image.shape[1]):\n",
    "            if line_image[row,col] == 255:\n",
    "                # regions dict is empty\n",
    "                if len(regions) == 0:\n",
    "                    regions[0] = [(row,col)]\n",
    "\n",
    "                # regions dict in not empty\n",
    "                else:\n",
    "                    flag = 0\n",
    "                    for reg  in regions.keys():\n",
    "                        if flag == 1:\n",
    "                            break\n",
    "                        if same_region(regions[reg], row, col):\n",
    "                            regions[reg].append((row,col))\n",
    "                            flag = 1\n",
    "                        \n",
    "                    if flag == 0:\n",
    "                        regions[len(regions)] = [(row,col)]\n",
    "  \n",
    "    return regions"
   ]
  },
  {
   "cell_type": "code",
   "execution_count": null,
   "metadata": {
    "id": "k6nFquf07cUj"
   },
   "outputs": [],
   "source": [
    "def get_middle(region, top):\n",
    "    iter=0\n",
    "    if top == True:\n",
    "        for i in range(len(region)-1):\n",
    "            if region[i][0] == region[i+1][0]:\n",
    "                iter+=1\n",
    "            else:\n",
    "                return iter+1\n",
    "    \n",
    "    else:\n",
    "        for i in range(1,len(region)-1):\n",
    "            if region[-1*i][0] == region[-1*(i+1)][0]:\n",
    "                iter += 1\n",
    "            else:\n",
    "                return -1*(iter+1)"
   ]
  },
  {
   "cell_type": "code",
   "execution_count": null,
   "metadata": {
    "id": "31wHyKYS9Blm"
   },
   "outputs": [],
   "source": [
    "def generate_line(regions, image_height):\n",
    "    slopes = np.zeros(shape=[len(regions)])\n",
    "    intercepts = np.zeros(shape=[len(regions)])\n",
    "    line_data = np.zeros(shape=[len(regions), 2])\n",
    "\n",
    "    for reg in regions.keys():\n",
    "        (x0, y0) = regions[reg][0]\n",
    "        (x1, y1) = regions[reg][1]\n",
    "        m = (y1-y0) / (x1-x0)\n",
    "        slopes[reg] = m\n",
    "        intercepts[reg] = ((y1-x1*m)+(y0-x0*m))/2\n",
    "\n",
    "    intercepts = image_height*np.around(intercepts/image_height, decimals=1)\n",
    "    slopes = np.around(slopes, decimals=1)\n",
    "\n",
    "    line_data = np.transpose([slopes, intercepts])\n",
    "    unique_lines, count = np.unique(line_data, return_counts=True, axis=0)\n",
    "  \n",
    "    return unique_lines[np.argsort(slopes)]"
   ]
  },
  {
   "cell_type": "code",
   "execution_count": null,
   "metadata": {},
   "outputs": [],
   "source": [
    "def inner_point(p1, p2, height, width):\n",
    "    (yf,xf) = p2\n",
    "    (yi,xi) = p1\n",
    "    height = height+1\n",
    "    width = width+1\n",
    "    if yi<height and xi<width:\n",
    "        return (yi,xi)\n",
    "    elif yf<height and xf<width:\n",
    "        return (yf,xf)\n",
    "    else:\n",
    "        print(\"no inner point possible\")"
   ]
  },
  {
   "cell_type": "code",
   "execution_count": null,
   "metadata": {},
   "outputs": [],
   "source": [
    "def compelete_lines(line_array, h, w):\n",
    "    points = []\n",
    "    h=h-1\n",
    "    w=w-1\n",
    "\n",
    "    for m,b in line_array:\n",
    "        if b>h:\n",
    "            if m<0:\n",
    "                y0,x0 = h,(h-b)/m\n",
    "                y1,x1 = 0,(-b/m)\n",
    "                y2,x2 = (m*w+b),w\n",
    "                y1,x1 = inner_point((y1,x1),(y2,x2),h,w)\n",
    "            else:\n",
    "                print(\"b>h m>=0 impossible\")\n",
    "            \n",
    "        elif b<0:\n",
    "            if m>=0:\n",
    "                y0,x0 = 0,(-b/m)\n",
    "                y1,x1 = h,(h-b)/m\n",
    "                y2,x2 = (m*w+b),w\n",
    "                y1,x1 = inner_point((y1,x1),(y2,x2),h,w)\n",
    "            else:\n",
    "                print(\"b<0 m<0 impossible\")\n",
    "            \n",
    "        else:\n",
    "            if m<0:\n",
    "                y0,x0 = b,0\n",
    "                y1,x1 = 0,(-b/m)\n",
    "                y2,x2 = (m*w+b),w\n",
    "                y1,x1 = inner_point((y1,x1),(y2,x2),h,w)\n",
    "            else:\n",
    "                y0,x0 = b,0\n",
    "                y1,x1 = h,(h-b)/m\n",
    "                y2,x2 = (m*w+b),w\n",
    "                y1,x1 = inner_point((y1,x1),(y2,x2),h,w)\n",
    "\n",
    "        points.append([y0,x0,y1,x1])\n",
    "\n",
    "    points=np.asarray(points,dtype='uint64')\n",
    "    return points"
   ]
  },
  {
   "cell_type": "markdown",
   "metadata": {},
   "source": [
    "### Hyperparameters"
   ]
  },
  {
   "cell_type": "code",
   "execution_count": null,
   "metadata": {},
   "outputs": [],
   "source": [
    "theta = np.concatenate([np.arange(start=rad(-60),stop=rad(-5),step=rad(1)),np.arange(start=rad(5),stop=rad(60),step=rad(1))])\n",
    "tetha_thr = 0.5\n",
    "thickness = 2\n",
    "region_thr = 2000\n",
    "# canny hyoerparameters\n",
    "sigma = 4\n",
    "low_threshold = 1\n",
    "high_threshold = 25\n",
    "# probabilistic_hough_line hyperparameters\n",
    "threshold = 20"
   ]
  },
  {
   "cell_type": "markdown",
   "metadata": {},
   "source": [
    "### Violations"
   ]
  },
  {
   "cell_type": "code",
   "execution_count": null,
   "metadata": {},
   "outputs": [],
   "source": [
    "# for line_sebghat viokation\n",
    "line_num = [0,1]"
   ]
  },
  {
   "cell_type": "markdown",
   "metadata": {},
   "source": [
    "### Image Path"
   ]
  },
  {
   "cell_type": "code",
   "execution_count": null,
   "metadata": {
    "id": "OWZXjdgCUUkc"
   },
   "outputs": [],
   "source": [
    "image = './mask.jpg'\n",
    "# load image\n",
    "frame = cv2.imread(image)"
   ]
  },
  {
   "cell_type": "markdown",
   "metadata": {},
   "source": [
    "### Detection Process"
   ]
  },
  {
   "cell_type": "code",
   "execution_count": null,
   "metadata": {
    "colab": {
     "base_uri": "https://localhost:8080/"
    },
    "id": "9bmdRPCtUfBe",
    "outputId": "1a053eb9-82c1-4516-95e8-9f372545fb9c"
   },
   "outputs": [
    {
     "name": "stdout",
     "output_type": "stream",
     "text": [
      "Fusing layers... \n"
     ]
    }
   ],
   "source": [
    "# detector objects\n",
    "line_detector = LINE_DETECTION('weights/line_model.pt')"
   ]
  },
  {
   "cell_type": "code",
   "execution_count": null,
   "metadata": {
    "id": "rO5Iz5OrVRPT"
   },
   "outputs": [],
   "source": [
    "# detection process, detecting lines\n",
    "lines = line_detector.detect(frame)"
   ]
  },
  {
   "cell_type": "code",
   "execution_count": null,
   "metadata": {
    "id": "vRtsWEOKpkB9"
   },
   "outputs": [],
   "source": [
    "# create mask from line bboxes\n",
    "bb_mask = np.zeros((frame.shape))\n",
    "\n",
    "for line in lines:\n",
    "  [(xmin,ymin),(xmax,ymax)] = line['bbox']\n",
    "  bb_mask = cv2.rectangle(bb_mask, (xmin,ymin), (xmax,ymax), [255,255,255] , -1)\n",
    "bb_mask = bb_mask.astype('int')"
   ]
  },
  {
   "cell_type": "code",
   "execution_count": null,
   "metadata": {
    "id": "CukbWa0KsEjN"
   },
   "outputs": [],
   "source": [
    "# extract edges from whole image\n",
    "line_image, edges, lines = line_detector_func(frame,theta_range=theta)"
   ]
  },
  {
   "cell_type": "code",
   "execution_count": null,
   "metadata": {
    "id": "frLiqHsCsjf0"
   },
   "outputs": [],
   "source": [
    "# extract edges and lines from lines only\n",
    "bb_edges = edges * bb_mask[:,:,0]\n",
    "bb_edges_3d = np.stack((bb_edges,)*3, axis=-1).astype('uint8')\n",
    "\n",
    "line_image, edges, lines = line_detector_func(bb_edges_3d,theta_range=theta)"
   ]
  },
  {
   "cell_type": "code",
   "execution_count": null,
   "metadata": {
    "id": "49lcrpLW6tDQ"
   },
   "outputs": [],
   "source": [
    "# apply dilation and erosion on extracted lines\n",
    "kernel = np.ones((5,5),np.uint8)\n",
    "dilation = cv2.dilate(line_image,kernel,iterations = 5)\n",
    "erosion = cv2.erode(dilation,kernel,iterations = 5)\n",
    "\n",
    "line_image = erosion[(erosion.shape[0]//2)-100:(erosion.shape[0]//2)+100,:,0]"
   ]
  },
  {
   "cell_type": "code",
   "execution_count": null,
   "metadata": {
    "id": "81Enutzf8SMP"
   },
   "outputs": [],
   "source": [
    "regions = get_regions(line_image)"
   ]
  },
  {
   "cell_type": "code",
   "execution_count": null,
   "metadata": {},
   "outputs": [],
   "source": [
    "i = 0\n",
    "regions_final = {}\n",
    "for reg in regions.keys():\n",
    "    if len(regions[reg]) >= region_thr:\n",
    "        idx_top = get_middle(regions[reg], top=True)//2\n",
    "        idx_bot = get_middle(regions[reg], top=False)//2\n",
    "        regions_final[i] = [(regions[reg][idx_top][1], regions[reg][idx_top][0]+(frame.shape[0]//2)-100), (regions[reg][idx_bot][1], regions[reg][idx_bot][0]+(frame.shape[0]//2)-100)]\n",
    "        i+=1"
   ]
  },
  {
   "cell_type": "code",
   "execution_count": null,
   "metadata": {},
   "outputs": [],
   "source": [
    "lines = generate_line(regions_final, frame.shape[0])"
   ]
  },
  {
   "cell_type": "code",
   "execution_count": null,
   "metadata": {
    "id": "oeGPeYgA9nBS"
   },
   "outputs": [],
   "source": [
    "height, width = frame.shape[:2]  \n",
    "points = compelete_lines(line_array=lines, h=height, w=width)"
   ]
  },
  {
   "cell_type": "code",
   "execution_count": null,
   "metadata": {
    "id": "0dW6m7MI-JaO"
   },
   "outputs": [],
   "source": [
    "# generate mask from road\n",
    "mask_img = np.zeros(list(edges.shape))\n",
    "a = mask_img.shape\n",
    "\n",
    "(y0, x0, y1, x1) = points[line_num[0]]\n",
    "y1 = int(y1)\n",
    "y0 = int(y0)\n",
    "x1 = int(x1)\n",
    "x0 = int(x0)\n",
    "m1 = (x1-x0)/(y1-y0)\n",
    "b1 = ((x0-y0*m1)+(x1-y1*m1))/2\n",
    "\n",
    "(y0, x0, y1, x1) = points[line_num[1]]\n",
    "y1 = int(y1)\n",
    "y0 = int(y0)\n",
    "x1 = int(x1)\n",
    "x0 = int(x0)\n",
    "m2 = (x1-x0)/(y1-y0)\n",
    "b2 = ((x0-y0*m2)+(x1-y1*m2))/2\n",
    "\n",
    "for xx in range(a[0]):\n",
    "    for yy in range(a[1]): \n",
    "        if (-yy+xx*m1+b1)<0 and (-yy+xx*m2+b2)>0:\n",
    "            mask_img[xx,yy]=255"
   ]
  },
  {
   "cell_type": "code",
   "execution_count": null,
   "metadata": {
    "colab": {
     "base_uri": "https://localhost:8080/"
    },
    "id": "eYROs4BaqxWG",
    "outputId": "7793a7c6-5f3d-448a-c28d-bfa8f833a89b"
   },
   "outputs": [
    {
     "data": {
      "text/plain": [
       "True"
      ]
     },
     "execution_count": 182,
     "metadata": {
      "tags": []
     },
     "output_type": "execute_result"
    }
   ],
   "source": [
    "# save mask\n",
    "cv2.imwrite('output_mask.jpg', cv2.resize(mask_img, (mask_img.shape[1], mask_img.shape[0])))"
   ]
  }
 ],
 "metadata": {
  "accelerator": "GPU",
  "colab": {
   "collapsed_sections": [],
   "name": "Mask_Generator.ipynb",
   "provenance": []
  },
  "kernelspec": {
   "display_name": "Python 3",
   "language": "python",
   "name": "python3"
  },
  "language_info": {
   "codemirror_mode": {
    "name": "ipython",
    "version": 3
   },
   "file_extension": ".py",
   "mimetype": "text/x-python",
   "name": "python",
   "nbconvert_exporter": "python",
   "pygments_lexer": "ipython3",
   "version": "3.7.9"
  }
 },
 "nbformat": 4,
 "nbformat_minor": 4
}
